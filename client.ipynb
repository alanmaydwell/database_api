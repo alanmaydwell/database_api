{
 "cells": [
  {
   "cell_type": "markdown",
   "id": "3ab82bd8-b389-455c-8eef-64b3be50daf9",
   "metadata": {
    "tags": []
   },
   "source": [
    "# Database API Caller"
   ]
  },
  {
   "cell_type": "code",
   "execution_count": 45,
   "id": "16350a3d-6b2d-4399-9e34-e70a126d16af",
   "metadata": {
    "tags": []
   },
   "outputs": [],
   "source": [
    "import requests\n",
    "\n",
    "def get_latest_employee_id():\n",
    "    return requests.get(url + f\"/getlatestemployee\").text\n",
    "    \n",
    "def get_employee(payroll_no):\n",
    "    response = requests.get(url + f\"/getemployee/{payroll_no}\")\n",
    "    rows = [[str(e) for e in r] for r in response.json()]\n",
    "    if rows:\n",
    "        return rows[0]\n",
    "    else:\n",
    "        return rows\n",
    "\n",
    "url = \"http://127.0.0.1:8000\""
   ]
  },
  {
   "cell_type": "markdown",
   "id": "c8cff334-0e0a-4ad0-90f9-79a448f81ecb",
   "metadata": {},
   "source": [
    "### Get Latest Employee ID"
   ]
  },
  {
   "cell_type": "code",
   "execution_count": 49,
   "id": "468bede2-1b00-480f-9a28-d38a3c9f0d94",
   "metadata": {
    "tags": []
   },
   "outputs": [
    {
     "name": "stdout",
     "output_type": "stream",
     "text": [
      "888896\n"
     ]
    }
   ],
   "source": [
    "latest = get_latest_employee_id()\n",
    "print(latest)"
   ]
  },
  {
   "cell_type": "markdown",
   "id": "2eecc19d-881b-44f8-8f45-10b3f1c943b2",
   "metadata": {},
   "source": [
    "### Retrieve a record"
   ]
  },
  {
   "cell_type": "code",
   "execution_count": 55,
   "id": "1751e27c-61d0-4773-9591-08e4eb59f450",
   "metadata": {
    "tags": []
   },
   "outputs": [
    {
     "name": "stdout",
     "output_type": "stream",
     "text": [
      "200\n",
      "[]\n"
     ]
    }
   ],
   "source": [
    "payroll_no = \"888897\"\n",
    "response = requests.get(url + f\"/getemployee/{payroll_no}\")\n",
    "print(response.status_code)\n",
    "rows = [[str(e) for e in r] for r in response.json()]\n",
    "print(rows)"
   ]
  },
  {
   "cell_type": "markdown",
   "id": "e02980c3-6539-425d-8447-ca2c2299ed19",
   "metadata": {
    "tags": []
   },
   "source": [
    "### Create a record"
   ]
  },
  {
   "cell_type": "code",
   "execution_count": 10,
   "id": "85f56be2-fc51-4542-b031-84bcbff7b7e2",
   "metadata": {
    "tags": []
   },
   "outputs": [
    {
     "name": "stdout",
     "output_type": "stream",
     "text": [
      "{\"message\":\"Created employee id: 888897\"}\n"
     ]
    }
   ],
   "source": [
    "forename = \"Test\"\n",
    "surname = \"Boasting\"\n",
    "response = requests.post(url + \"/addemployee\", params={\"forename\": forename, \"surname\": surname})\n",
    "print(response.text)"
   ]
  },
  {
   "cell_type": "markdown",
   "id": "a8ec7338-eef2-4733-bf95-8097fd7f66fd",
   "metadata": {
    "tags": []
   },
   "source": [
    "### Update Record"
   ]
  },
  {
   "cell_type": "code",
   "execution_count": 12,
   "id": "90dcf831-3637-438a-a539-718c2694470d",
   "metadata": {
    "tags": []
   },
   "outputs": [
    {
     "name": "stdout",
     "output_type": "stream",
     "text": [
      "{\"message\":\"Updated 1 rows\"}\n"
     ]
    }
   ],
   "source": [
    "payroll_no = \"888897\"\n",
    "newsurname = \"Trumpet\"\n",
    "response = requests.put(url + f\"/updateemployee/{payroll_no}\", params={\"surname\": newsurname})\n",
    "print(response.text)"
   ]
  },
  {
   "cell_type": "markdown",
   "id": "427b6e05-f374-42eb-9f68-5d636e1d88cd",
   "metadata": {
    "tags": []
   },
   "source": [
    "### Delete Record"
   ]
  },
  {
   "cell_type": "code",
   "execution_count": 14,
   "id": "ec6cea0f-3a95-4cea-be70-df09f1e1f1c0",
   "metadata": {
    "tags": []
   },
   "outputs": [
    {
     "name": "stdout",
     "output_type": "stream",
     "text": [
      "null\n",
      "200\n"
     ]
    }
   ],
   "source": [
    "payroll_no = \"888897\"\n",
    "response = requests.delete(url + f\"/deleteemployee/{payroll_no}\")\n",
    "print(response.text)\n",
    "print(response.status_code)"
   ]
  },
  {
   "cell_type": "code",
   "execution_count": null,
   "id": "79c80db1-953e-46d3-919b-2489171f5cdf",
   "metadata": {},
   "outputs": [],
   "source": []
  }
 ],
 "metadata": {
  "kernelspec": {
   "display_name": "Python 3 (ipykernel)",
   "language": "python",
   "name": "python3"
  },
  "language_info": {
   "codemirror_mode": {
    "name": "ipython",
    "version": 3
   },
   "file_extension": ".py",
   "mimetype": "text/x-python",
   "name": "python",
   "nbconvert_exporter": "python",
   "pygments_lexer": "ipython3",
   "version": "3.10.6"
  }
 },
 "nbformat": 4,
 "nbformat_minor": 5
}
